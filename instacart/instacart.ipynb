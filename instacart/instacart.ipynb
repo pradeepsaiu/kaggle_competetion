{
 "cells": [
  {
   "cell_type": "markdown",
   "metadata": {},
   "source": [
    "# Instacart Market Basket Analysis"
   ]
  },
  {
   "cell_type": "markdown",
   "metadata": {},
   "source": [
    "## Index\n",
    "1. Extract the data\n",
    "2. Understand the data\n",
    "3. Preprocesssing stage\n",
    "4. Training different models to set a Benchmark\n",
    "5. Improvise the Model and Repeat\n",
    "6. Predict on Test data."
   ]
  },
  {
   "cell_type": "code",
   "execution_count": 29,
   "metadata": {
    "collapsed": false
   },
   "outputs": [
    {
     "name": "stdout",
     "output_type": "stream",
     "text": [
      "height has been deprecated.\n",
      "\n"
     ]
    }
   ],
   "source": [
    "import numpy as np\n",
    "import pandas as pd\n",
    "pd.set_option('display.height', 1000)\n",
    "pd.set_option('display.max_rows', 500)\n",
    "pd.set_option('display.max_columns', 500)\n",
    "pd.set_option('display.width', 1000)"
   ]
  },
  {
   "cell_type": "code",
   "execution_count": 30,
   "metadata": {
    "collapsed": false
   },
   "outputs": [
    {
     "name": "stdout",
     "output_type": "stream",
     "text": [
      "['.DS_Store', 'aisles.csv', 'departments.csv', 'order_products__prior.csv', 'order_products__train.csv', 'orders.csv', 'products.csv', 'sample_submission.csv']\n"
     ]
    }
   ],
   "source": [
    "import os\n",
    "# List all the data we have.\n",
    "print(os.listdir('data'))"
   ]
  },
  {
   "cell_type": "markdown",
   "metadata": {},
   "source": [
    "# 1. Extract the Data"
   ]
  },
  {
   "cell_type": "code",
   "execution_count": 6,
   "metadata": {
    "collapsed": false
   },
   "outputs": [],
   "source": [
    "aisles      = pd.read_csv('data/aisles.csv')\n",
    "departments = pd.read_csv('data/departments.csv')\n",
    "order_prior = pd.read_csv('data/order_products__prior.csv')\n",
    "order_train = pd.read_csv('data/order_products__train.csv')\n",
    "orders      = pd.read_csv('data/orders.csv')\n",
    "products    = pd.read_csv('data/products.csv')"
   ]
  },
  {
   "cell_type": "code",
   "execution_count": 50,
   "metadata": {
    "collapsed": false
   },
   "outputs": [
    {
     "name": "stdout",
     "output_type": "stream",
     "text": [
      "(134, 2)\n",
      "   aisle_id                       aisle\n",
      "0         1       prepared soups salads\n",
      "1         2           specialty cheeses\n",
      "2         3         energy granola bars\n",
      "3         4               instant foods\n",
      "4         5  marinades meat preparation\n"
     ]
    }
   ],
   "source": [
    "print(aisles.shape)\n",
    "print(aisles.head())"
   ]
  },
  {
   "cell_type": "code",
   "execution_count": 51,
   "metadata": {
    "collapsed": false
   },
   "outputs": [
    {
     "name": "stdout",
     "output_type": "stream",
     "text": [
      "(21, 2)\n",
      "   department_id department\n",
      "0              1     frozen\n",
      "1              2      other\n",
      "2              3     bakery\n",
      "3              4    produce\n",
      "4              5    alcohol\n"
     ]
    }
   ],
   "source": [
    "print(departments.shape)\n",
    "print(departments.head())"
   ]
  },
  {
   "cell_type": "code",
   "execution_count": 69,
   "metadata": {
    "collapsed": false
   },
   "outputs": [
    {
     "name": "stdout",
     "output_type": "stream",
     "text": [
      "(32434489, 4)\n",
      "    order_id  product_id  add_to_cart_order  reordered\n",
      "0          2       33120                  1          1\n",
      "1          2       28985                  2          1\n",
      "2          2        9327                  3          0\n",
      "3          2       45918                  4          1\n",
      "4          2       30035                  5          0\n",
      "5          2       17794                  6          1\n",
      "6          2       40141                  7          1\n",
      "7          2        1819                  8          1\n",
      "8          2       43668                  9          0\n",
      "16         3       32665                  8          1\n"
     ]
    }
   ],
   "source": [
    "print (order_prior.shape)\n",
    "print(order_prior.sort_values('order_id').head(10))"
   ]
  },
  {
   "cell_type": "code",
   "execution_count": 84,
   "metadata": {
    "collapsed": false
   },
   "outputs": [
    {
     "name": "stdout",
     "output_type": "stream",
     "text": [
      "(1384617, 4)\n",
      "   order_id  product_id  add_to_cart_order  reordered\n",
      "0         1       49302                  1          1\n",
      "1         1       11109                  2          1\n",
      "2         1       10246                  3          0\n",
      "3         1       49683                  4          0\n",
      "4         1       43633                  5          1\n",
      "5         1       13176                  6          0\n",
      "6         1       47209                  7          0\n",
      "7         1       22035                  8          1\n"
     ]
    }
   ],
   "source": [
    "print(order_train.shape)\n",
    "print(order_train[ order_train['order_id']==1] )"
   ]
  },
  {
   "cell_type": "code",
   "execution_count": 87,
   "metadata": {
    "collapsed": false
   },
   "outputs": [
    {
     "name": "stdout",
     "output_type": "stream",
     "text": [
      "(3421083, 7) \n",
      "    order_id  user_id eval_set  order_number  order_dow  order_hour_of_day  days_since_prior_order\n",
      "0   2539329        1    prior             1          2                  8                     NaN\n",
      "1   2398795        1    prior             2          3                  7                    15.0\n",
      "2    473747        1    prior             3          3                 12                    21.0\n",
      "3   2254736        1    prior             4          4                  7                    29.0\n",
      "4    431534        1    prior             5          4                 15                    28.0\n",
      "(3214874, 7)\n",
      "(131209, 7)\n",
      "(75000, 7)\n"
     ]
    }
   ],
   "source": [
    "print(orders.shape,'\\n',orders.head())"
   ]
  },
  {
   "cell_type": "code",
   "execution_count": 73,
   "metadata": {
    "collapsed": false
   },
   "outputs": [
    {
     "name": "stdout",
     "output_type": "stream",
     "text": [
      "(49688, 4)\n",
      "   product_id                                       product_name  aisle_id  department_id\n",
      "0           1                         Chocolate Sandwich Cookies        61             19\n",
      "1           2                                   All-Seasons Salt       104             13\n",
      "2           3               Robust Golden Unsweetened Oolong Tea        94              7\n",
      "3           4  Smart Ones Classic Favorites Mini Rigatoni Wit...        38              1\n",
      "4           5                          Green Chile Anytime Sauce         5             13\n"
     ]
    }
   ],
   "source": [
    "print(products.shape)\n",
    "print(products.head())"
   ]
  },
  {
   "cell_type": "code",
   "execution_count": null,
   "metadata": {
    "collapsed": true
   },
   "outputs": [],
   "source": []
  }
 ],
 "metadata": {
  "kernelspec": {
   "display_name": "Python 3",
   "language": "python",
   "name": "python3"
  },
  "language_info": {
   "codemirror_mode": {
    "name": "ipython",
    "version": 3
   },
   "file_extension": ".py",
   "mimetype": "text/x-python",
   "name": "python",
   "nbconvert_exporter": "python",
   "pygments_lexer": "ipython3",
   "version": "3.5.3"
  }
 },
 "nbformat": 4,
 "nbformat_minor": 2
}
