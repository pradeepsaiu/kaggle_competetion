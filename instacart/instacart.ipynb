{
 "cells": [
  {
   "cell_type": "markdown",
   "metadata": {},
   "source": [
    "# Instacart Market Basket Analysis"
   ]
  },
  {
   "cell_type": "markdown",
   "metadata": {},
   "source": [
    "## Index\n",
    "1. Extract the data\n",
    "2. Understand the data\n",
    "3. Preprocesssing stage\n",
    "4. Training different models to set a Benchmark\n",
    "5. Improvise the Model and Repeat\n",
    "6. Predict on Test data."
   ]
  },
  {
   "cell_type": "code",
   "execution_count": 1,
   "metadata": {
    "collapsed": true
   },
   "outputs": [],
   "source": [
    "import numpy as np\n",
    "import pandas as pd"
   ]
  },
  {
   "cell_type": "code",
   "execution_count": 3,
   "metadata": {
    "collapsed": false
   },
   "outputs": [
    {
     "name": "stdout",
     "output_type": "stream",
     "text": [
      "['.DS_Store', 'aisles.csv', 'departments.csv', 'order_products__prior.csv', 'order_products__train.csv', 'orders.csv', 'products.csv', 'sample_submission.csv']\n"
     ]
    }
   ],
   "source": [
    "import os\n",
    "# List all the data we have.\n",
    "print(os.listdir('data'))"
   ]
  },
  {
   "cell_type": "markdown",
   "metadata": {},
   "source": [
    "# 1. Extract the Data"
   ]
  },
  {
   "cell_type": "code",
   "execution_count": 6,
   "metadata": {
    "collapsed": false
   },
   "outputs": [],
   "source": [
    "aisles      = pd.read_csv('data/aisles.csv')\n",
    "departments = pd.read_csv('data/departments.csv')\n",
    "order_prior = pd.read_csv('data/order_products__prior.csv')\n",
    "order_train = pd.read_csv('data/order_products__train.csv')\n",
    "orders      = pd.read_csv('data/orders.csv')\n",
    "products    = pd.read_csv('data/products.csv')"
   ]
  },
  {
   "cell_type": "code",
   "execution_count": 14,
   "metadata": {
    "collapsed": false
   },
   "outputs": [
    {
     "name": "stdout",
     "output_type": "stream",
     "text": [
      "         product_id      aisle_id  department_id\n",
      "count  49688.000000  49688.000000   49688.000000\n",
      "mean   24844.500000     67.769582      11.728687\n",
      "std    14343.834425     38.316162       5.850410\n",
      "min        1.000000      1.000000       1.000000\n",
      "25%    12422.750000     35.000000       7.000000\n",
      "50%    24844.500000     69.000000      13.000000\n",
      "75%    37266.250000    100.000000      17.000000\n",
      "max    49688.000000    134.000000      21.000000\n"
     ]
    }
   ],
   "source": [
    "print(products.describe())"
   ]
  },
  {
   "cell_type": "code",
   "execution_count": null,
   "metadata": {
    "collapsed": true
   },
   "outputs": [],
   "source": []
  }
 ],
 "metadata": {
  "kernelspec": {
   "display_name": "Python 3",
   "language": "python",
   "name": "python3"
  },
  "language_info": {
   "codemirror_mode": {
    "name": "ipython",
    "version": 3
   },
   "file_extension": ".py",
   "mimetype": "text/x-python",
   "name": "python",
   "nbconvert_exporter": "python",
   "pygments_lexer": "ipython3",
   "version": "3.5.3"
  }
 },
 "nbformat": 4,
 "nbformat_minor": 2
}
